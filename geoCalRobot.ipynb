{
 "cells": [
  {
   "cell_type": "code",
   "execution_count": 1,
   "metadata": {},
   "outputs": [],
   "source": [
    "from cal_utils import *\n",
    "from scipy.optimize import least_squares, minimize"
   ]
  },
  {
   "cell_type": "code",
   "execution_count": null,
   "metadata": {},
   "outputs": [],
   "source": [
    "file_num = 0\n",
    "folder = ''\n",
    "def err_iprobe(iprobe_prm_input, solidCube_prm_input, mode):\n",
    "    return getError_robot(Prm(iprobe_prm_input[0], \n",
    "                        iprobe_prm_input[1], \n",
    "                        iprobe_prm_input[2]), \n",
    "                    solidCube(solidCube_prm_input[0], \n",
    "                              solidCube_prm_input[1], \n",
    "                              solidCube_prm_input[2], \n",
    "                              solidCube_prm_input[3], \n",
    "                              solidCube_prm_input[4], \n",
    "                              solidCube_prm_input[5]), \n",
    "                    mode, file_num, folder)\n",
    "    \n",
    "def err_solidcube(solidCube_prm_input, iprobe_prm_input, mode):\n",
    "    return getError_robot(Prm(iprobe_prm_input[0], \n",
    "                        iprobe_prm_input[1], \n",
    "                        iprobe_prm_input[2]), \n",
    "                    solidCube(solidCube_prm_input[0], \n",
    "                              solidCube_prm_input[1], \n",
    "                              solidCube_prm_input[2], \n",
    "                              solidCube_prm_input[3], \n",
    "                              solidCube_prm_input[4], \n",
    "                              solidCube_prm_input[5]), \n",
    "                    mode, file_num, folder)"
   ]
  },
  {
   "cell_type": "code",
   "execution_count": null,
   "metadata": {},
   "outputs": [],
   "source": [
    "def iterative_optimization(iprobe_prm_input, solidCube_prm_input, \n",
    "                           tol=1e-6, max_iter=1000):\n",
    "    prev_error = np.inf\n",
    "    for iteration in range(max_iter):\n",
    "        result_iprobe = minimize(fun=err_iprobe, \n",
    "                                 x0=iprobe_prm_input, \n",
    "                                 args=(solidCube_prm_input, 'scalar'), \n",
    "                                 method='L-BFGS-B', \n",
    "                                 bounds=[(53.5, 73.5), \n",
    "                                         (67.0, 87.0), \n",
    "                                         (-87.0, -67.0)], \n",
    "                                 tol=tol,\n",
    "                                 options={'maxiter': max_iter, 'disp': False})\n",
    "        iprobe_prm_input = result_iprobe.x\n",
    "        \n",
    "        result_solidCube = least_squares(fun=err_solidcube, \n",
    "                                         x0=solidCube_prm_input, \n",
    "                                         args=(iprobe_prm_input, 'vector'), \n",
    "                                         ftol=tol, \n",
    "                                         # tr_options={'verbosity': 1, 'max_iter': 2000}, \n",
    "                                         verbose=1, \n",
    "                                         max_nfev=max_iter)\n",
    "        solidCube_prm_input = result_solidCube.x\n",
    "        \n",
    "        current_error = err_iprobe(iprobe_prm_input, solidCube_prm_input, 'scalar')\n",
    "        print(f\"Iteration {iteration+1}, Error: {current_error:.8f}\")\n",
    "        if abs(prev_error - current_error) < tol:\n",
    "            print(\"Converged.\")\n",
    "            break\n",
    "        prev_error = current_error\n",
    "    \n",
    "    return iprobe_prm_input, solidCube_prm_input, current_error\n",
    "    "
   ]
  },
  {
   "cell_type": "code",
   "execution_count": null,
   "metadata": {},
   "outputs": [],
   "source": [
    "iprobe_prm_input = [63.5, 77.0, -77.0]\n",
    "solidCube_prm_input = [-2.2266e-03, 6.3928e-02, -5.1277e-05, \n",
    "                       5.4682e+00, 7.0481e-04, 4.8222e-04]\n",
    "# iprobe_prm_input = [66.20844612, 74.07940723, -77.77190349]\n",
    "# solidCube_prm_input = [5.75713355e-03, 1.65454347e-01, -2.51927934e-03, \n",
    "#                        5.47618023e+00, 6.33467621e-02, -4.00017302e-04]\n",
    "\n",
    "print(f\"Before calibration: {err_iprobe(iprobe_prm_input, solidCube_prm_input, 'scalar')}\")\n",
    "final_iprobe_prm, final_solidCube_prm, final_error = iterative_optimization(iprobe_prm_input, solidCube_prm_input)\n",
    "\n",
    "print(\"\\nFinal optimized parameters:\")\n",
    "print(f\"iProbe Parameters: [{final_iprobe_prm[0]}, {final_iprobe_prm[1]}, {final_iprobe_prm[2]}]\")\n",
    "print(f\"SolidCube Parameters: [{final_solidCube_prm[0]}, {final_solidCube_prm[1]}, {final_solidCube_prm[2]}, {final_solidCube_prm[3]}, {final_solidCube_prm[4]}, {final_solidCube_prm[5]}]\")\n",
    "print(\"Final Error:\", final_error)"
   ]
  }
 ],
 "metadata": {
  "kernelspec": {
   "display_name": "Python 3",
   "language": "python",
   "name": "python3"
  },
  "language_info": {
   "codemirror_mode": {
    "name": "ipython",
    "version": 3
   },
   "file_extension": ".py",
   "mimetype": "text/x-python",
   "name": "python",
   "nbconvert_exporter": "python",
   "pygments_lexer": "ipython3",
   "version": "3.12.4"
  }
 },
 "nbformat": 4,
 "nbformat_minor": 2
}
